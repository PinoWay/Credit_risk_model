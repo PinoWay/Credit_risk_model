{
  "cells": [
    {
      "cell_type": "markdown",
      "metadata": {
        "id": "3wirMVqpP6TF"
      },
      "source": [
        "# Импорт библиотек"
      ]
    },
    {
      "cell_type": "code",
      "execution_count": 46,
      "metadata": {
        "id": "hm3QIEJUQDEB"
      },
      "outputs": [],
      "source": [
        "import pandas as pd\n",
        "import numpy as np\n",
        "import warnings\n",
        "import matplotlib.pyplot as plt\n",
        "import seaborn as sns\n",
        "import dill\n",
        "\n",
        "from sklearn.model_selection import train_test_split\n",
        "from sklearn.utils import class_weight\n",
        "from imblearn.over_sampling import SMOTE\n",
        "\n",
        "from sklearn.preprocessing import StandardScaler, OneHotEncoder, FunctionTransformer\n",
        "from sklearn.compose import ColumnTransformer, make_column_selector\n",
        "from sklearn.pipeline import Pipeline\n",
        "from imblearn.pipeline import Pipeline as Pipeline_imbl\n",
        "from sklearn.feature_selection import SelectKBest\n",
        "from sklearn.metrics import roc_auc_score\n",
        "\n",
        "from sklearn.tree import DecisionTreeClassifier\n",
        "from sklearn.linear_model import LogisticRegression\n",
        "from sklearn.ensemble import RandomForestClassifier\n",
        "from xgboost import XGBClassifier\n",
        "from catboost import CatBoostClassifier\n",
        "from sklearn.ensemble import VotingClassifier\n",
        "from sklearn.ensemble import AdaBoostClassifier"
      ]
    },
    {
      "cell_type": "markdown",
      "metadata": {
        "id": "qELtd09jP6P2"
      },
      "source": [
        "# Загрузка данных"
      ]
    },
    {
      "cell_type": "code",
      "execution_count": 2,
      "metadata": {
        "id": "Ok5lzQtfayvZ"
      },
      "outputs": [],
      "source": [
        "warnings.filterwarnings('ignore')"
      ]
    },
    {
      "cell_type": "code",
      "execution_count": 3,
      "metadata": {
        "id": "nRDhnlYXIolF"
      },
      "outputs": [],
      "source": [
        "data = pd.read_parquet('data/train_data_0.pq')"
      ]
    },
    {
      "cell_type": "code",
      "execution_count": 4,
      "metadata": {
        "colab": {
          "base_uri": "https://localhost:8080/"
        },
        "id": "S4uBq4TmEK02",
        "outputId": "4eed2b58-078f-4733-b848-e3aac7321081"
      },
      "outputs": [
        {
          "name": "stdout",
          "output_type": "stream",
          "text": [
            "Датасет имеет размерность: (1974724, 61)\n"
          ]
        }
      ],
      "source": [
        "# Вывод размерности\n",
        "print(f'Датасет имеет размерность: {data.shape}')"
      ]
    },
    {
      "cell_type": "code",
      "execution_count": 5,
      "metadata": {
        "colab": {
          "base_uri": "https://localhost:8080/",
          "height": 444
        },
        "id": "jAHo6e6CM_1L",
        "outputId": "da22527c-aeb8-4760-b333-8bf528cec3f7"
      },
      "outputs": [
        {
          "data": {
            "text/html": [
              "<div>\n",
              "<style scoped>\n",
              "    .dataframe tbody tr th:only-of-type {\n",
              "        vertical-align: middle;\n",
              "    }\n",
              "\n",
              "    .dataframe tbody tr th {\n",
              "        vertical-align: top;\n",
              "    }\n",
              "\n",
              "    .dataframe thead th {\n",
              "        text-align: right;\n",
              "    }\n",
              "</style>\n",
              "<table border=\"1\" class=\"dataframe\">\n",
              "  <thead>\n",
              "    <tr style=\"text-align: right;\">\n",
              "      <th></th>\n",
              "      <th>id</th>\n",
              "      <th>rn</th>\n",
              "      <th>pre_since_opened</th>\n",
              "      <th>pre_since_confirmed</th>\n",
              "      <th>pre_pterm</th>\n",
              "      <th>pre_fterm</th>\n",
              "      <th>pre_till_pclose</th>\n",
              "      <th>pre_till_fclose</th>\n",
              "      <th>pre_loans_credit_limit</th>\n",
              "      <th>pre_loans_next_pay_summ</th>\n",
              "      <th>...</th>\n",
              "      <th>enc_paym_21</th>\n",
              "      <th>enc_paym_22</th>\n",
              "      <th>enc_paym_23</th>\n",
              "      <th>enc_paym_24</th>\n",
              "      <th>enc_loans_account_holder_type</th>\n",
              "      <th>enc_loans_credit_status</th>\n",
              "      <th>enc_loans_credit_type</th>\n",
              "      <th>enc_loans_account_cur</th>\n",
              "      <th>pclose_flag</th>\n",
              "      <th>fclose_flag</th>\n",
              "    </tr>\n",
              "  </thead>\n",
              "  <tbody>\n",
              "    <tr>\n",
              "      <th>0</th>\n",
              "      <td>0</td>\n",
              "      <td>1</td>\n",
              "      <td>18</td>\n",
              "      <td>9</td>\n",
              "      <td>2</td>\n",
              "      <td>3</td>\n",
              "      <td>16</td>\n",
              "      <td>10</td>\n",
              "      <td>11</td>\n",
              "      <td>3</td>\n",
              "      <td>...</td>\n",
              "      <td>3</td>\n",
              "      <td>3</td>\n",
              "      <td>3</td>\n",
              "      <td>4</td>\n",
              "      <td>1</td>\n",
              "      <td>3</td>\n",
              "      <td>4</td>\n",
              "      <td>1</td>\n",
              "      <td>0</td>\n",
              "      <td>0</td>\n",
              "    </tr>\n",
              "    <tr>\n",
              "      <th>1</th>\n",
              "      <td>0</td>\n",
              "      <td>2</td>\n",
              "      <td>18</td>\n",
              "      <td>9</td>\n",
              "      <td>14</td>\n",
              "      <td>14</td>\n",
              "      <td>12</td>\n",
              "      <td>12</td>\n",
              "      <td>0</td>\n",
              "      <td>3</td>\n",
              "      <td>...</td>\n",
              "      <td>0</td>\n",
              "      <td>0</td>\n",
              "      <td>0</td>\n",
              "      <td>4</td>\n",
              "      <td>1</td>\n",
              "      <td>3</td>\n",
              "      <td>4</td>\n",
              "      <td>1</td>\n",
              "      <td>0</td>\n",
              "      <td>0</td>\n",
              "    </tr>\n",
              "    <tr>\n",
              "      <th>2</th>\n",
              "      <td>0</td>\n",
              "      <td>3</td>\n",
              "      <td>18</td>\n",
              "      <td>9</td>\n",
              "      <td>4</td>\n",
              "      <td>8</td>\n",
              "      <td>1</td>\n",
              "      <td>11</td>\n",
              "      <td>11</td>\n",
              "      <td>0</td>\n",
              "      <td>...</td>\n",
              "      <td>0</td>\n",
              "      <td>0</td>\n",
              "      <td>0</td>\n",
              "      <td>4</td>\n",
              "      <td>1</td>\n",
              "      <td>2</td>\n",
              "      <td>3</td>\n",
              "      <td>1</td>\n",
              "      <td>1</td>\n",
              "      <td>1</td>\n",
              "    </tr>\n",
              "    <tr>\n",
              "      <th>3</th>\n",
              "      <td>0</td>\n",
              "      <td>4</td>\n",
              "      <td>4</td>\n",
              "      <td>1</td>\n",
              "      <td>9</td>\n",
              "      <td>12</td>\n",
              "      <td>16</td>\n",
              "      <td>7</td>\n",
              "      <td>12</td>\n",
              "      <td>2</td>\n",
              "      <td>...</td>\n",
              "      <td>3</td>\n",
              "      <td>3</td>\n",
              "      <td>3</td>\n",
              "      <td>4</td>\n",
              "      <td>1</td>\n",
              "      <td>3</td>\n",
              "      <td>1</td>\n",
              "      <td>1</td>\n",
              "      <td>0</td>\n",
              "      <td>0</td>\n",
              "    </tr>\n",
              "    <tr>\n",
              "      <th>4</th>\n",
              "      <td>0</td>\n",
              "      <td>5</td>\n",
              "      <td>5</td>\n",
              "      <td>12</td>\n",
              "      <td>15</td>\n",
              "      <td>2</td>\n",
              "      <td>11</td>\n",
              "      <td>12</td>\n",
              "      <td>10</td>\n",
              "      <td>2</td>\n",
              "      <td>...</td>\n",
              "      <td>3</td>\n",
              "      <td>3</td>\n",
              "      <td>3</td>\n",
              "      <td>4</td>\n",
              "      <td>1</td>\n",
              "      <td>3</td>\n",
              "      <td>4</td>\n",
              "      <td>1</td>\n",
              "      <td>0</td>\n",
              "      <td>0</td>\n",
              "    </tr>\n",
              "    <tr>\n",
              "      <th>...</th>\n",
              "      <td>...</td>\n",
              "      <td>...</td>\n",
              "      <td>...</td>\n",
              "      <td>...</td>\n",
              "      <td>...</td>\n",
              "      <td>...</td>\n",
              "      <td>...</td>\n",
              "      <td>...</td>\n",
              "      <td>...</td>\n",
              "      <td>...</td>\n",
              "      <td>...</td>\n",
              "      <td>...</td>\n",
              "      <td>...</td>\n",
              "      <td>...</td>\n",
              "      <td>...</td>\n",
              "      <td>...</td>\n",
              "      <td>...</td>\n",
              "      <td>...</td>\n",
              "      <td>...</td>\n",
              "      <td>...</td>\n",
              "      <td>...</td>\n",
              "    </tr>\n",
              "    <tr>\n",
              "      <th>1974719</th>\n",
              "      <td>249998</td>\n",
              "      <td>4</td>\n",
              "      <td>1</td>\n",
              "      <td>9</td>\n",
              "      <td>14</td>\n",
              "      <td>8</td>\n",
              "      <td>10</td>\n",
              "      <td>11</td>\n",
              "      <td>8</td>\n",
              "      <td>4</td>\n",
              "      <td>...</td>\n",
              "      <td>3</td>\n",
              "      <td>3</td>\n",
              "      <td>3</td>\n",
              "      <td>4</td>\n",
              "      <td>1</td>\n",
              "      <td>2</td>\n",
              "      <td>3</td>\n",
              "      <td>1</td>\n",
              "      <td>0</td>\n",
              "      <td>1</td>\n",
              "    </tr>\n",
              "    <tr>\n",
              "      <th>1974720</th>\n",
              "      <td>249998</td>\n",
              "      <td>5</td>\n",
              "      <td>7</td>\n",
              "      <td>9</td>\n",
              "      <td>4</td>\n",
              "      <td>8</td>\n",
              "      <td>1</td>\n",
              "      <td>11</td>\n",
              "      <td>19</td>\n",
              "      <td>1</td>\n",
              "      <td>...</td>\n",
              "      <td>3</td>\n",
              "      <td>3</td>\n",
              "      <td>3</td>\n",
              "      <td>4</td>\n",
              "      <td>1</td>\n",
              "      <td>2</td>\n",
              "      <td>4</td>\n",
              "      <td>1</td>\n",
              "      <td>1</td>\n",
              "      <td>1</td>\n",
              "    </tr>\n",
              "    <tr>\n",
              "      <th>1974721</th>\n",
              "      <td>249999</td>\n",
              "      <td>1</td>\n",
              "      <td>9</td>\n",
              "      <td>0</td>\n",
              "      <td>10</td>\n",
              "      <td>8</td>\n",
              "      <td>10</td>\n",
              "      <td>11</td>\n",
              "      <td>16</td>\n",
              "      <td>2</td>\n",
              "      <td>...</td>\n",
              "      <td>3</td>\n",
              "      <td>3</td>\n",
              "      <td>3</td>\n",
              "      <td>4</td>\n",
              "      <td>1</td>\n",
              "      <td>2</td>\n",
              "      <td>3</td>\n",
              "      <td>1</td>\n",
              "      <td>0</td>\n",
              "      <td>1</td>\n",
              "    </tr>\n",
              "    <tr>\n",
              "      <th>1974722</th>\n",
              "      <td>249999</td>\n",
              "      <td>2</td>\n",
              "      <td>9</td>\n",
              "      <td>16</td>\n",
              "      <td>10</td>\n",
              "      <td>13</td>\n",
              "      <td>10</td>\n",
              "      <td>4</td>\n",
              "      <td>12</td>\n",
              "      <td>2</td>\n",
              "      <td>...</td>\n",
              "      <td>3</td>\n",
              "      <td>3</td>\n",
              "      <td>3</td>\n",
              "      <td>4</td>\n",
              "      <td>1</td>\n",
              "      <td>2</td>\n",
              "      <td>3</td>\n",
              "      <td>1</td>\n",
              "      <td>0</td>\n",
              "      <td>0</td>\n",
              "    </tr>\n",
              "    <tr>\n",
              "      <th>1974723</th>\n",
              "      <td>249999</td>\n",
              "      <td>3</td>\n",
              "      <td>9</td>\n",
              "      <td>9</td>\n",
              "      <td>6</td>\n",
              "      <td>1</td>\n",
              "      <td>0</td>\n",
              "      <td>4</td>\n",
              "      <td>16</td>\n",
              "      <td>2</td>\n",
              "      <td>...</td>\n",
              "      <td>3</td>\n",
              "      <td>3</td>\n",
              "      <td>3</td>\n",
              "      <td>4</td>\n",
              "      <td>1</td>\n",
              "      <td>2</td>\n",
              "      <td>3</td>\n",
              "      <td>1</td>\n",
              "      <td>0</td>\n",
              "      <td>0</td>\n",
              "    </tr>\n",
              "  </tbody>\n",
              "</table>\n",
              "<p>1974724 rows × 61 columns</p>\n",
              "</div>"
            ],
            "text/plain": [
              "             id  rn  pre_since_opened  pre_since_confirmed  pre_pterm  \\\n",
              "0             0   1                18                    9          2   \n",
              "1             0   2                18                    9         14   \n",
              "2             0   3                18                    9          4   \n",
              "3             0   4                 4                    1          9   \n",
              "4             0   5                 5                   12         15   \n",
              "...         ...  ..               ...                  ...        ...   \n",
              "1974719  249998   4                 1                    9         14   \n",
              "1974720  249998   5                 7                    9          4   \n",
              "1974721  249999   1                 9                    0         10   \n",
              "1974722  249999   2                 9                   16         10   \n",
              "1974723  249999   3                 9                    9          6   \n",
              "\n",
              "         pre_fterm  pre_till_pclose  pre_till_fclose  pre_loans_credit_limit  \\\n",
              "0                3               16               10                      11   \n",
              "1               14               12               12                       0   \n",
              "2                8                1               11                      11   \n",
              "3               12               16                7                      12   \n",
              "4                2               11               12                      10   \n",
              "...            ...              ...              ...                     ...   \n",
              "1974719          8               10               11                       8   \n",
              "1974720          8                1               11                      19   \n",
              "1974721          8               10               11                      16   \n",
              "1974722         13               10                4                      12   \n",
              "1974723          1                0                4                      16   \n",
              "\n",
              "         pre_loans_next_pay_summ  ...  enc_paym_21  enc_paym_22  enc_paym_23  \\\n",
              "0                              3  ...            3            3            3   \n",
              "1                              3  ...            0            0            0   \n",
              "2                              0  ...            0            0            0   \n",
              "3                              2  ...            3            3            3   \n",
              "4                              2  ...            3            3            3   \n",
              "...                          ...  ...          ...          ...          ...   \n",
              "1974719                        4  ...            3            3            3   \n",
              "1974720                        1  ...            3            3            3   \n",
              "1974721                        2  ...            3            3            3   \n",
              "1974722                        2  ...            3            3            3   \n",
              "1974723                        2  ...            3            3            3   \n",
              "\n",
              "         enc_paym_24  enc_loans_account_holder_type  enc_loans_credit_status  \\\n",
              "0                  4                              1                        3   \n",
              "1                  4                              1                        3   \n",
              "2                  4                              1                        2   \n",
              "3                  4                              1                        3   \n",
              "4                  4                              1                        3   \n",
              "...              ...                            ...                      ...   \n",
              "1974719            4                              1                        2   \n",
              "1974720            4                              1                        2   \n",
              "1974721            4                              1                        2   \n",
              "1974722            4                              1                        2   \n",
              "1974723            4                              1                        2   \n",
              "\n",
              "         enc_loans_credit_type  enc_loans_account_cur  pclose_flag  \\\n",
              "0                            4                      1            0   \n",
              "1                            4                      1            0   \n",
              "2                            3                      1            1   \n",
              "3                            1                      1            0   \n",
              "4                            4                      1            0   \n",
              "...                        ...                    ...          ...   \n",
              "1974719                      3                      1            0   \n",
              "1974720                      4                      1            1   \n",
              "1974721                      3                      1            0   \n",
              "1974722                      3                      1            0   \n",
              "1974723                      3                      1            0   \n",
              "\n",
              "         fclose_flag  \n",
              "0                  0  \n",
              "1                  0  \n",
              "2                  1  \n",
              "3                  0  \n",
              "4                  0  \n",
              "...              ...  \n",
              "1974719            1  \n",
              "1974720            1  \n",
              "1974721            1  \n",
              "1974722            0  \n",
              "1974723            0  \n",
              "\n",
              "[1974724 rows x 61 columns]"
            ]
          },
          "execution_count": 5,
          "metadata": {},
          "output_type": "execute_result"
        }
      ],
      "source": [
        "data"
      ]
    },
    {
      "cell_type": "markdown",
      "metadata": {
        "id": "ZgL6vn3E24xj"
      },
      "source": [
        "# DataPreparation"
      ]
    },
    {
      "cell_type": "markdown",
      "metadata": {
        "id": "F7v4bGFn3TH_"
      },
      "source": [
        "## Обработка пропущенных значений"
      ]
    },
    {
      "cell_type": "code",
      "execution_count": 6,
      "metadata": {
        "colab": {
          "base_uri": "https://localhost:8080/"
        },
        "id": "S-1JSAtQ3X1P",
        "outputId": "c028f853-3020-4835-bf1e-65f972a131bd"
      },
      "outputs": [
        {
          "name": "stdout",
          "output_type": "stream",
          "text": [
            "Количество пропусков в признаках:\n"
          ]
        },
        {
          "data": {
            "text/plain": [
              "id                    0\n",
              "enc_paym_1            0\n",
              "enc_paym_3            0\n",
              "enc_paym_4            0\n",
              "enc_paym_5            0\n",
              "                     ..\n",
              "pre_over2limit        0\n",
              "pre_maxover2limit     0\n",
              "is_zero_util          0\n",
              "is_zero_over2limit    0\n",
              "fclose_flag           0\n",
              "Length: 61, dtype: int64"
            ]
          },
          "execution_count": 6,
          "metadata": {},
          "output_type": "execute_result"
        }
      ],
      "source": [
        "print(f'Количество пропусков в признаках:')\n",
        "(data.isna().sum()).sort_values(ascending=False)"
      ]
    },
    {
      "cell_type": "markdown",
      "metadata": {
        "id": "iMYOS6Y234f0"
      },
      "source": [
        "***В данных нет пропусков***"
      ]
    },
    {
      "cell_type": "markdown",
      "metadata": {
        "id": "1_Ybw_e_39Lj"
      },
      "source": [
        "## Проверка линейной коррелиции между признаками"
      ]
    },
    {
      "cell_type": "code",
      "execution_count": 7,
      "metadata": {
        "colab": {
          "base_uri": "https://localhost:8080/",
          "height": 626
        },
        "id": "xqBlquH-3CTI",
        "outputId": "7ddbcb42-bb67-45e7-b208-1ad270368a30"
      },
      "outputs": [
        {
          "data": {
            "image/png": "[encoded data removed]",
            "text/plain": [
              "<Figure size 432x288 with 2 Axes>"
            ]
          },
          "metadata": {
            "needs_background": "light"
          },
          "output_type": "display_data"
        }
      ],
      "source": [
        "corr_matrix = data.corr()\n",
        "sns.heatmap(corr_matrix);"
      ]
    },
    {
      "cell_type": "code",
      "execution_count": 8,
      "metadata": {
        "colab": {
          "base_uri": "https://localhost:8080/"
        },
        "id": "JDNwnamO6h9Q",
        "outputId": "3a0e941a-b5bc-40b3-d236-e6822f03c3ad"
      },
      "outputs": [
        {
          "data": {
            "text/plain": [
              "pre_util                  1\n",
              "pre_maxover2limit         1\n",
              "is_zero_util              1\n",
              "is_zero_maxover2limit     1\n",
              "enc_paym_1                1\n",
              "enc_paym_2                2\n",
              "enc_paym_3                3\n",
              "enc_paym_4                3\n",
              "enc_paym_5                4\n",
              "enc_paym_6                5\n",
              "enc_paym_7                5\n",
              "enc_paym_8                5\n",
              "enc_paym_9                6\n",
              "enc_paym_10               7\n",
              "enc_paym_11               9\n",
              "enc_paym_12              11\n",
              "enc_paym_13              12\n",
              "enc_paym_14              13\n",
              "enc_paym_15              12\n",
              "enc_paym_16              12\n",
              "enc_paym_17              12\n",
              "enc_paym_18              11\n",
              "enc_paym_19              11\n",
              "enc_paym_20              12\n",
              "enc_paym_21              11\n",
              "enc_paym_22              11\n",
              "enc_paym_23              10\n",
              "enc_paym_24               4\n",
              "dtype: int64"
            ]
          },
          "execution_count": 8,
          "metadata": {},
          "output_type": "execute_result"
        }
      ],
      "source": [
        "high_corr_features = ((corr_matrix>0.7).sum()-1)\n",
        "high_corr_features[high_corr_features>0]"
      ]
    },
    {
      "cell_type": "markdown",
      "metadata": {
        "id": "YSsb3Yba6aOZ"
      },
      "source": [
        "***Видно что в области признаков enc_paym наблюдаются высокие корреляции. Вместо всех таких признаков будет использоваться один сагрегированный признак (мода)***"
      ]
    },
    {
      "cell_type": "code",
      "execution_count": 9,
      "metadata": {
        "id": "Y8KY1rHU8A4-"
      },
      "outputs": [],
      "source": [
        "# Сагрегируем признаки enc_paym_* в один признак enc_paym, в качестве агрегирующей функции используем моду\n",
        "features_enc = [i for i in data.columns if i.startswith('enc_paym_')]\n",
        "data['enc_paym'] = data[features_enc].apply(lambda d: d.mode()[0], axis=1)\n",
        "data.drop(columns=features_enc, inplace=True)"
      ]
    },
    {
      "cell_type": "markdown",
      "metadata": {
        "id": "NUjk7m89OCF_"
      },
      "source": [
        "## Агрегация данных"
      ]
    },
    {
      "cell_type": "markdown",
      "metadata": {
        "id": "Buk6ruvNOEk3"
      },
      "source": [
        "В датасете одному и тому же id сответсвует несколько записей, необходимо сагрегировать датасет так, чтобы одному id соответствовала одна запись.\n",
        "\n",
        "Стратегия агрегации:\n",
        "1. Датасет кодируется корячим кодированием\n",
        "2. Происходит агрегация датасета по id с агрегирующей функцией - суммой.\n",
        "\n",
        "Таким образом, будет видно сколько раз определенная категория какого-либо признака встречалась в истории клиента."
      ]
    },
    {
      "cell_type": "code",
      "execution_count": 10,
      "metadata": {
        "id": "ZzS_i1fpsp1S"
      },
      "outputs": [],
      "source": [
        "ohe = OneHotEncoder(sparse=False)"
      ]
    },
    {
      "cell_type": "code",
      "execution_count": 11,
      "metadata": {
        "id": "yqA1UBBeOS7l"
      },
      "outputs": [],
      "source": [
        "rn_feat = data.groupby(['id'], as_index=False)['rn'].max()\n",
        "data.drop(columns=['rn'], inplace=True)"
      ]
    },
    {
      "cell_type": "code",
      "execution_count": null,
      "metadata": {
        "id": "FJj8OkTSs0Ai"
      },
      "outputs": [],
      "source": [
        "agg_feat = data.drop(columns=['id']).columns\n",
        "ohe.fit(data[agg_feat])\n",
        "data[ohe.get_feature_names_out()] = ohe.transform(data[agg_feat])\n",
        "data.drop(columns=agg_feat, inplace=True)\n",
        "data = data.groupby(['id'], as_index=False).sum()"
      ]
    },
    {
      "cell_type": "code",
      "execution_count": 20,
      "metadata": {
        "id": "H9KqZo_ov3KU"
      },
      "outputs": [],
      "source": [
        "data = pd.merge(data, rn_feat, on='id')\n",
        "\n",
        "targets = pd.read_csv(f'data/train_target.csv')\n",
        "data = pd.merge(data, targets, on='id')\n",
        "del targets"
      ]
    },
    {
      "cell_type": "code",
      "execution_count": 21,
      "metadata": {
        "id": "UzX4e3y-DYFY"
      },
      "outputs": [],
      "source": [
        "data.drop(columns=['id'], inplace=True)"
      ]
    },
    {
      "cell_type": "markdown",
      "metadata": {
        "id": "PuZeksOEQ116"
      },
      "source": [
        "## Баланс классов"
      ]
    },
    {
      "cell_type": "code",
      "execution_count": 23,
      "metadata": {
        "colab": {
          "base_uri": "https://localhost:8080/"
        },
        "id": "lvMauckLQ5ii",
        "outputId": "e279969d-da62-449c-e6fe-8f28aa33682c"
      },
      "outputs": [
        {
          "name": "stdout",
          "output_type": "stream",
          "text": [
            "Процентное соотношение классов:\n"
          ]
        },
        {
          "data": {
            "text/plain": [
              "0    96.9064\n",
              "1     3.0936\n",
              "Name: flag, dtype: float64"
            ]
          },
          "execution_count": 23,
          "metadata": {},
          "output_type": "execute_result"
        }
      ],
      "source": [
        "print('Процентное соотношение классов:')\n",
        "data['flag'].value_counts()/len(data)*100"
      ]
    },
    {
      "cell_type": "markdown",
      "metadata": {
        "id": "HBYb14uLRFNZ"
      },
      "source": [
        "***В выбоке присутсвует сильный дисбаланс классов***"
      ]
    },
    {
      "cell_type": "markdown",
      "metadata": {
        "id": "mqn49FkrOWbn"
      },
      "source": [
        "## Отбор признаков"
      ]
    },
    {
      "cell_type": "code",
      "execution_count": 24,
      "metadata": {
        "id": "u-MhcnoROXiH"
      },
      "outputs": [],
      "source": [
        "s = SelectKBest()\n",
        "s.fit(data.drop(columns=['flag']), data['flag'])\n",
        "scores = list(zip(data.drop(columns=['flag']), s.scores_))"
      ]
    },
    {
      "cell_type": "code",
      "execution_count": 25,
      "metadata": {
        "id": "y1JjJUiIOXd3"
      },
      "outputs": [],
      "source": [
        "init_features = ['rn'] + list(ohe.feature_names_in_)"
      ]
    },
    {
      "cell_type": "code",
      "execution_count": 26,
      "metadata": {
        "id": "ghYlG10nOXFg"
      },
      "outputs": [],
      "source": [
        "di = {}\n",
        "for feat in init_features:\n",
        "    di[feat] = np.nanmean([d[1] for d in scores if d[0].startswith(feat+'_')])\n",
        "di['rn'] = np.nanmean([d[1] for d in scores if d[0]=='rn'])"
      ]
    },
    {
      "cell_type": "code",
      "execution_count": 27,
      "metadata": {
        "id": "aHDVZ3zPOcHX"
      },
      "outputs": [],
      "source": [
        "di = dict(sorted(di.items(), key=lambda d: d[1]))"
      ]
    },
    {
      "cell_type": "code",
      "execution_count": 28,
      "metadata": {
        "colab": {
          "base_uri": "https://localhost:8080/",
          "height": 430
        },
        "id": "Eg9zz4wQOdm_",
        "outputId": "24efdced-e53b-4382-d52b-9ddd2a818927"
      },
      "outputs": [
        {
          "data": {
            "image/png": "[encoded data removed]",
            "text/plain": [
              "<Figure size 432x288 with 1 Axes>"
            ]
          },
          "metadata": {
            "needs_background": "light"
          },
          "output_type": "display_data"
        }
      ],
      "source": [
        "plt.barh(list(di), list(di.values()));"
      ]
    },
    {
      "cell_type": "code",
      "execution_count": 29,
      "metadata": {
        "id": "165cOgKEOnAO"
      },
      "outputs": [],
      "source": [
        "features = list(di.keys())[-20:] # Будем использовать изначальных признаков 20 признаков\n",
        "final_features = [feat for feat in data.columns if any([feat.startswith(f+'_') for f in features])]"
      ]
    },
    {
      "cell_type": "markdown",
      "metadata": {
        "id": "U5vmEhfo2-pT"
      },
      "source": [
        "# Modeling"
      ]
    },
    {
      "cell_type": "code",
      "execution_count": 30,
      "metadata": {
        "id": "Co43Pq4-HVWq"
      },
      "outputs": [],
      "source": [
        "X_train, X_test, y_train, y_test = train_test_split(\n",
        "    data[final_features],\n",
        "    data['flag'],\n",
        "    test_size=0.3,\n",
        "    stratify=data['flag'],\n",
        "    random_state=42\n",
        ")\n",
        "\n",
        "pos_weight = (y_train==0).sum() / (y_train==1).sum()"
      ]
    },
    {
      "cell_type": "markdown",
      "metadata": {
        "id": "4OFKLeFcRUtI"
      },
      "source": [
        "Построим модели машинного обучения, при этом с дисбалансом классов будем бороться либо с помощью взвешивания классов, либо с помощью генерации синтетических объектов минорного класса"
      ]
    },
    {
      "cell_type": "markdown",
      "metadata": {
        "id": "DhTefAMm36-T"
      },
      "source": [
        "### LogisticRegression"
      ]
    },
    {
      "cell_type": "code",
      "execution_count": 32,
      "metadata": {
        "colab": {
          "base_uri": "https://localhost:8080/"
        },
        "id": "fd30dWma3_Qr",
        "outputId": "365ea006-4310-4d77-f1e1-6d0c5fe5bb9e"
      },
      "outputs": [
        {
          "name": "stdout",
          "output_type": "stream",
          "text": [
            "roc_auc для LogisticRegression на train: 0.7567830591948401\n",
            "roc_auc для LogisticRegression на test: 0.7431722607841649\n"
          ]
        }
      ],
      "source": [
        "# Взвешивание классов\n",
        "logreg = LogisticRegression(class_weight='balanced', random_state=42)\n",
        "\n",
        "pipe = Pipeline(steps=(\n",
        "    ('std', StandardScaler()),\n",
        "    ('model', logreg)\n",
        "))\n",
        "pipe.fit(X_train, y_train)\n",
        "\n",
        "y_train_proba = pipe.predict_proba(X_train)[:, 1]\n",
        "y_test_proba = pipe.predict_proba(X_test)[:, 1]\n",
        "\n",
        "print(f'roc_auc для {type(pipe.named_steps[\"model\"]).__name__} на train: {roc_auc_score(y_train, y_train_proba)}')\n",
        "print(f'roc_auc для {type(pipe.named_steps[\"model\"]).__name__} на test: {roc_auc_score(y_test, y_test_proba)}')"
      ]
    },
    {
      "cell_type": "code",
      "execution_count": 33,
      "metadata": {
        "colab": {
          "base_uri": "https://localhost:8080/"
        },
        "id": "SAXdCSC-m71J",
        "outputId": "e485cfc8-1167-4a8f-c459-23b5291d925a"
      },
      "outputs": [
        {
          "name": "stdout",
          "output_type": "stream",
          "text": [
            "roc_auc для LogisticRegression на train: 0.7458748194624436\n",
            "roc_auc для LogisticRegression на test: 0.730161892945932\n"
          ]
        }
      ],
      "source": [
        "# Генерация объектов минорнорного класса\n",
        "logreg = LogisticRegression(random_state=42)\n",
        "\n",
        "pipe = Pipeline_imbl(steps=(\n",
        "    ('std', StandardScaler()),\n",
        "    ('smt', SMOTE()),\n",
        "    ('model', logreg)\n",
        "))\n",
        "pipe.fit(X_train, y_train)\n",
        "\n",
        "y_train_proba = pipe.predict_proba(X_train)[:, 1]\n",
        "y_test_proba = pipe.predict_proba(X_test)[:, 1]\n",
        "\n",
        "print(f'roc_auc для {type(pipe.named_steps[\"model\"]).__name__} на train: {roc_auc_score(y_train, y_train_proba)}')\n",
        "print(f'roc_auc для {type(pipe.named_steps[\"model\"]).__name__} на test: {roc_auc_score(y_test, y_test_proba)}')"
      ]
    },
    {
      "cell_type": "markdown",
      "metadata": {
        "id": "pwZdy0EH3_5T"
      },
      "source": [
        "### RandomForest"
      ]
    },
    {
      "cell_type": "code",
      "execution_count": 34,
      "metadata": {
        "colab": {
          "base_uri": "https://localhost:8080/"
        },
        "id": "JQTFc_rZ4Dib",
        "outputId": "27c13db8-1943-4a03-ff6c-b81b26b16aa0"
      },
      "outputs": [
        {
          "name": "stdout",
          "output_type": "stream",
          "text": [
            "roc_auc для RandomForestClassifier на train: 0.7684706289727035\n",
            "roc_auc для RandomForestClassifier на test: 0.7341966793501984\n"
          ]
        }
      ],
      "source": [
        "# Взвешивание классов\n",
        "rfc = RandomForestClassifier(class_weight='balanced', max_depth=6, random_state=42)\n",
        "\n",
        "pipe = Pipeline(steps=(\n",
        "    ('preprocessor', StandardScaler()),\n",
        "    ('model', rfc)\n",
        "))\n",
        "pipe.fit(X_train, y_train)\n",
        "\n",
        "y_train_proba = pipe.predict_proba(X_train)[:, 1]\n",
        "y_test_proba = pipe.predict_proba(X_test)[:, 1]\n",
        "\n",
        "print(f'roc_auc для {type(pipe.named_steps[\"model\"]).__name__} на train: {roc_auc_score(y_train, y_train_proba)}')\n",
        "print(f'roc_auc для {type(pipe.named_steps[\"model\"]).__name__} на test: {roc_auc_score(y_test, y_test_proba)}')"
      ]
    },
    {
      "cell_type": "code",
      "execution_count": 35,
      "metadata": {
        "colab": {
          "base_uri": "https://localhost:8080/"
        },
        "id": "cbtWh0-loS4O",
        "outputId": "6394a07e-1047-424c-becd-0260c78d93ac"
      },
      "outputs": [
        {
          "name": "stdout",
          "output_type": "stream",
          "text": [
            "roc_auc для RandomForestClassifier на train: 0.7442667370949582\n",
            "roc_auc для RandomForestClassifier на test: 0.7177879622293284\n"
          ]
        }
      ],
      "source": [
        "# Генерация объектов минорнорного класса\n",
        "rfc = RandomForestClassifier(max_depth=6, random_state=42)\n",
        "\n",
        "pipe = Pipeline_imbl(steps=(\n",
        "    ('std', StandardScaler()),\n",
        "    ('smt', SMOTE()),\n",
        "    ('model', rfc)\n",
        "))\n",
        "pipe.fit(X_train, y_train)\n",
        "\n",
        "y_train_proba = pipe.predict_proba(X_train)[:, 1]\n",
        "y_test_proba = pipe.predict_proba(X_test)[:, 1]\n",
        "\n",
        "print(f'roc_auc для {type(pipe.named_steps[\"model\"]).__name__} на train: {roc_auc_score(y_train, y_train_proba)}')\n",
        "print(f'roc_auc для {type(pipe.named_steps[\"model\"]).__name__} на test: {roc_auc_score(y_test, y_test_proba)}')"
      ]
    },
    {
      "cell_type": "markdown",
      "metadata": {
        "id": "sKGkXNjW4HnT"
      },
      "source": [
        "### XGBoost"
      ]
    },
    {
      "cell_type": "code",
      "execution_count": 36,
      "metadata": {
        "colab": {
          "base_uri": "https://localhost:8080/"
        },
        "id": "0cNGpGgk4Kqb",
        "outputId": "6fe2d679-343f-48c7-9ee3-a5ea635092f4"
      },
      "outputs": [
        {
          "name": "stdout",
          "output_type": "stream",
          "text": [
            "roc_auc для XGBClassifier на train: 0.7837930916583049\n",
            "roc_auc для XGBClassifier на test: 0.7530066167470062\n"
          ]
        }
      ],
      "source": [
        "# Взвешивание классов\n",
        "xgb = XGBClassifier(scale_pos_weight=pos_weight, random_state=42, max_depth=2)\n",
        "\n",
        "pipe = Pipeline(steps=(\n",
        "    ('preprocessor', StandardScaler()),\n",
        "    ('model', xgb)\n",
        "))\n",
        "pipe.fit(X_train, y_train)\n",
        "\n",
        "y_train_proba = pipe.predict_proba(X_train)[:, 1]\n",
        "y_test_proba = pipe.predict_proba(X_test)[:, 1]\n",
        "\n",
        "print(f'roc_auc для {type(pipe.named_steps[\"model\"]).__name__} на train: {roc_auc_score(y_train, y_train_proba)}')\n",
        "print(f'roc_auc для {type(pipe.named_steps[\"model\"]).__name__} на test: {roc_auc_score(y_test, y_test_proba)}')"
      ]
    },
    {
      "cell_type": "code",
      "execution_count": 37,
      "metadata": {
        "colab": {
          "base_uri": "https://localhost:8080/"
        },
        "id": "EssTtyYho3Q7",
        "outputId": "db30887f-354d-4362-eed9-5fa0b748e414"
      },
      "outputs": [
        {
          "name": "stdout",
          "output_type": "stream",
          "text": [
            "roc_auc для XGBClassifier на train: 0.736156616828193\n",
            "roc_auc для XGBClassifier на test: 0.7121623187615053\n"
          ]
        }
      ],
      "source": [
        "# Генерация объектов минорнорного класса\n",
        "xgb = XGBClassifier(scale_pos_weight=pos_weight, random_state=42, max_depth=2)\n",
        "\n",
        "pipe = Pipeline_imbl(steps=(\n",
        "    ('std', StandardScaler()),\n",
        "    ('smt', SMOTE()),\n",
        "    ('model', xgb)\n",
        "))\n",
        "pipe.fit(X_train, y_train)\n",
        "\n",
        "y_train_proba = pipe.predict_proba(X_train)[:, 1]\n",
        "y_test_proba = pipe.predict_proba(X_test)[:, 1]\n",
        "\n",
        "print(f'roc_auc для {type(pipe.named_steps[\"model\"]).__name__} на train: {roc_auc_score(y_train, y_train_proba)}')\n",
        "print(f'roc_auc для {type(pipe.named_steps[\"model\"]).__name__} на test: {roc_auc_score(y_test, y_test_proba)}')"
      ]
    },
    {
      "cell_type": "markdown",
      "metadata": {
        "id": "Qv3MxkdD4LQr"
      },
      "source": [
        "### CatBoost"
      ]
    },
    {
      "cell_type": "code",
      "execution_count": 38,
      "metadata": {
        "colab": {
          "base_uri": "https://localhost:8080/"
        },
        "id": "V9tmidZ84SxK",
        "outputId": "f56914a6-da63-42c7-854f-d2cd0c1dc9fc"
      },
      "outputs": [
        {
          "name": "stdout",
          "output_type": "stream",
          "text": [
            "roc_auc для CatBoostClassifier на train: 0.783500072174288\n",
            "roc_auc для CatBoostClassifier на test: 0.748265450937506\n"
          ]
        }
      ],
      "source": [
        "# Взвешивание классов\n",
        "cat = CatBoostClassifier(iterations=150, depth=3, random_state=42, verbose=False)\n",
        "\n",
        "pipe = Pipeline(steps=(\n",
        "    ('preprocessor', StandardScaler()),\n",
        "    ('model', cat)\n",
        "))\n",
        "pipe.fit(X_train, y_train)\n",
        "\n",
        "y_train_proba = pipe.predict_proba(X_train)[:, 1]\n",
        "y_test_proba = pipe.predict_proba(X_test)[:, 1]\n",
        "\n",
        "print(f'roc_auc для {type(pipe.named_steps[\"model\"]).__name__} на train: {roc_auc_score(y_train, y_train_proba)}')\n",
        "print(f'roc_auc для {type(pipe.named_steps[\"model\"]).__name__} на test: {roc_auc_score(y_test, y_test_proba)}')"
      ]
    },
    {
      "cell_type": "code",
      "execution_count": 39,
      "metadata": {
        "colab": {
          "base_uri": "https://localhost:8080/"
        },
        "id": "iMK5YYvIqQzY",
        "outputId": "a84ed24f-1a32-4e03-ccd0-37be9d7e41fb"
      },
      "outputs": [
        {
          "name": "stdout",
          "output_type": "stream",
          "text": [
            "roc_auc для CatBoostClassifier на train: 0.7741210835744359\n",
            "roc_auc для CatBoostClassifier на test: 0.738346806620424\n"
          ]
        }
      ],
      "source": [
        "# Генерация объектов минорнорного класса\n",
        "cat = CatBoostClassifier(iterations=150, depth=3, random_state=42, verbose=False)\n",
        "\n",
        "pipe = Pipeline_imbl(steps=(\n",
        "    ('std', StandardScaler()),\n",
        "    ('smt', SMOTE()),\n",
        "    ('model', cat)\n",
        "))\n",
        "pipe.fit(X_train, y_train)\n",
        "\n",
        "y_train_proba = pipe.predict_proba(X_train)[:, 1]\n",
        "y_test_proba = pipe.predict_proba(X_test)[:, 1]\n",
        "\n",
        "print(f'roc_auc для {type(pipe.named_steps[\"model\"]).__name__} на train: {roc_auc_score(y_train, y_train_proba)}')\n",
        "print(f'roc_auc для {type(pipe.named_steps[\"model\"]).__name__} на test: {roc_auc_score(y_test, y_test_proba)}')"
      ]
    },
    {
      "cell_type": "markdown",
      "metadata": {
        "id": "azT9FevYF9qu"
      },
      "source": [
        "### AdaBoost"
      ]
    },
    {
      "cell_type": "code",
      "execution_count": 40,
      "metadata": {
        "colab": {
          "base_uri": "https://localhost:8080/"
        },
        "id": "UlAoXEwrF_X6",
        "outputId": "d198329e-1ea0-4871-d7ae-248f97d83c7f"
      },
      "outputs": [
        {
          "name": "stdout",
          "output_type": "stream",
          "text": [
            "roc_auc для AdaBoostClassifier на train: 0.7751085466830017\n",
            "roc_auc для AdaBoostClassifier на test: 0.7478612048801548\n"
          ]
        }
      ],
      "source": [
        "# Взвешивание классов\n",
        "ada = AdaBoostClassifier(\n",
        "    estimator=DecisionTreeClassifier(class_weight='balanced', max_depth=1),\n",
        "    n_estimators=200,\n",
        "    random_state=42\n",
        ")\n",
        "\n",
        "pipe = Pipeline(steps=(\n",
        "    ('preprocessor', StandardScaler()),\n",
        "    ('model', ada)\n",
        "))\n",
        "pipe.fit(X_train, y_train)\n",
        "\n",
        "y_train_proba = pipe.predict_proba(X_train)[:, 1]\n",
        "y_test_proba = pipe.predict_proba(X_test)[:, 1]\n",
        "\n",
        "print(f'roc_auc для {type(pipe.named_steps[\"model\"]).__name__} на train: {roc_auc_score(y_train, y_train_proba)}')\n",
        "print(f'roc_auc для {type(pipe.named_steps[\"model\"]).__name__} на test: {roc_auc_score(y_test, y_test_proba)}')"
      ]
    },
    {
      "cell_type": "code",
      "execution_count": 41,
      "metadata": {
        "colab": {
          "base_uri": "https://localhost:8080/"
        },
        "id": "Z-u4MabeLkus",
        "outputId": "554bdf8b-26af-4e63-bdd9-9df0aba3c8c6"
      },
      "outputs": [
        {
          "name": "stdout",
          "output_type": "stream",
          "text": [
            "roc_auc для AdaBoostClassifier на train: 0.7139594355843032\n",
            "roc_auc для AdaBoostClassifier на test: 0.6973197222591236\n"
          ]
        }
      ],
      "source": [
        "# Генерация объектов минорнорного класса\n",
        "ada = AdaBoostClassifier(\n",
        "    estimator=DecisionTreeClassifier(class_weight='balanced', max_depth=1),\n",
        "    n_estimators=100,\n",
        "    random_state=42\n",
        ")\n",
        "\n",
        "pipe = Pipeline_imbl(steps=(\n",
        "    ('std', StandardScaler()),\n",
        "    ('smt', SMOTE()),\n",
        "    ('model', ada)\n",
        "))\n",
        "pipe.fit(X_train, y_train)\n",
        "\n",
        "y_train_proba = pipe.predict_proba(X_train)[:, 1]\n",
        "y_test_proba = pipe.predict_proba(X_test)[:, 1]\n",
        "\n",
        "print(f'roc_auc для {type(pipe.named_steps[\"model\"]).__name__} на train: {roc_auc_score(y_train, y_train_proba)}')\n",
        "print(f'roc_auc для {type(pipe.named_steps[\"model\"]).__name__} на test: {roc_auc_score(y_test, y_test_proba)}')"
      ]
    },
    {
      "cell_type": "markdown",
      "metadata": {
        "id": "nZbpA8ESRlTo"
      },
      "source": [
        "Все модели показывают лучший результат, без использования синтетических объектов минорного класса. Далее рассматривается модель голосования, созданная из моделей рассмотренных выше."
      ]
    },
    {
      "cell_type": "markdown",
      "metadata": {
        "id": "qAZKTblE7hVx"
      },
      "source": [
        "### VOTING"
      ]
    },
    {
      "cell_type": "code",
      "execution_count": 44,
      "metadata": {
        "colab": {
          "base_uri": "https://localhost:8080/"
        },
        "id": "ZeYZ-bRW7dkB",
        "outputId": "e7d71594-648a-4120-f29e-7e93d283c760"
      },
      "outputs": [
        {
          "name": "stdout",
          "output_type": "stream",
          "text": [
            "roc_auc для VotingClassifier на train: 0.7729457136517484\n",
            "roc_auc для VotingClassifier на test: 0.7518675927068112\n"
          ]
        }
      ],
      "source": [
        "models = [\n",
        "    ('logreg', LogisticRegression(class_weight='balanced', random_state=42)),\n",
        "    ('rfc', RandomForestClassifier(class_weight='balanced', max_depth=6, random_state=42))\n",
        "]\n",
        "\n",
        "vote = VotingClassifier(models, voting='soft')\n",
        "\n",
        "pipe = Pipeline(steps=(\n",
        "    ('std', StandardScaler()),\n",
        "    ('model', vote)\n",
        "))\n",
        "pipe.fit(X_train, y_train)\n",
        "\n",
        "y_train_proba = pipe.predict_proba(X_train)[:, 1]\n",
        "y_test_proba = pipe.predict_proba(X_test)[:, 1]\n",
        "\n",
        "print(f'roc_auc для {type(pipe.named_steps[\"model\"]).__name__} на train: {roc_auc_score(y_train, y_train_proba)}')\n",
        "print(f'roc_auc для {type(pipe.named_steps[\"model\"]).__name__} на test: {roc_auc_score(y_test, y_test_proba)}')"
      ]
    },
    {
      "cell_type": "code",
      "execution_count": 45,
      "metadata": {
        "colab": {
          "base_uri": "https://localhost:8080/"
        },
        "id": "c2hqbA79z-N4",
        "outputId": "f7d22fa7-65bc-4cbd-9e96-7eac3a657e81"
      },
      "outputs": [
        {
          "name": "stdout",
          "output_type": "stream",
          "text": [
            "roc_auc для VotingClassifier на train: 0.78101456182753\n",
            "roc_auc для VotingClassifier на test: 0.7558883354999715\n"
          ]
        }
      ],
      "source": [
        "models = [\n",
        "    ('logreg', LogisticRegression(class_weight='balanced', random_state=42)),\n",
        "    ('rfc', RandomForestClassifier(class_weight='balanced', max_depth=6, random_state=42)),\n",
        "    ('xgb', XGBClassifier(scale_pos_weight=pos_weight, random_state=42, max_depth=2))\n",
        "]\n",
        "\n",
        "vote = VotingClassifier(models, voting='soft')\n",
        "\n",
        "pipe = Pipeline(steps=(\n",
        "    ('std', StandardScaler()),\n",
        "    ('model', vote)\n",
        "))\n",
        "pipe.fit(X_train, y_train)\n",
        "\n",
        "y_train_proba = pipe.predict_proba(X_train)[:, 1]\n",
        "y_test_proba = pipe.predict_proba(X_test)[:, 1]\n",
        "\n",
        "print(f'roc_auc для {type(pipe.named_steps[\"model\"]).__name__} на train: {roc_auc_score(y_train, y_train_proba)}')\n",
        "print(f'roc_auc для {type(pipe.named_steps[\"model\"]).__name__} на test: {roc_auc_score(y_test, y_test_proba)}')"
      ]
    },
    {
      "cell_type": "markdown",
      "metadata": {
        "id": "Rz4Xz8gd3SPB"
      },
      "source": [
        "# Вывод"
      ]
    },
    {
      "cell_type": "markdown",
      "metadata": {
        "id": "q9zXc6HQ79r5"
      },
      "source": [
        "Лучшую метрику для данной задачи показывает модель VotingClassifier, построенная на моеделях LogisticRegression, RandomForestClassifier и XGBoostClassifier"
      ]
    },
    {
      "cell_type": "code",
      "execution_count": 48,
      "metadata": {},
      "outputs": [],
      "source": [
        "best_pipe = Pipeline(steps=(\n",
        "    ('std', StandardScaler()),\n",
        "    ('model', vote)\n",
        "))\n",
        "best_pipe.fit(data[final_features], data['flag'])\n",
        "\n",
        "with open('best_pipe.pkl', 'wb') as file:\n",
        "    dill.dump(best_pipe, file)"
      ]
    }
  ],
  "metadata": {
    "colab": {
      "provenance": [],
      "toc_visible": true
    },
    "kernelspec": {
      "display_name": "Python 3",
      "language": "python",
      "name": "python3"
    },
    "language_info": {
      "codemirror_mode": {
        "name": "ipython",
        "version": 3
      },
      "file_extension": ".py",
      "mimetype": "text/x-python",
      "name": "python",
      "nbconvert_exporter": "python",
      "pygments_lexer": "ipython3",
      "version": "3.10.0"
    }
  },
  "nbformat": 4,
  "nbformat_minor": 0
}
